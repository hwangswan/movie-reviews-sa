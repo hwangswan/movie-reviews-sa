{
  "nbformat": 4,
  "nbformat_minor": 0,
  "metadata": {
    "colab": {
      "name": "MovieReviewSA-BERT.ipynb",
      "provenance": [],
      "collapsed_sections": [],
      "authorship_tag": "ABX9TyN6s9U9XD/33a1vPRDX3l9V",
      "include_colab_link": true
    },
    "kernelspec": {
      "name": "python3",
      "display_name": "Python 3"
    },
    "language_info": {
      "name": "python"
    },
    "accelerator": "GPU"
  },
  "cells": [
    {
      "cell_type": "markdown",
      "metadata": {
        "id": "view-in-github",
        "colab_type": "text"
      },
      "source": [
        "<a href=\"https://colab.research.google.com/github/hwangswan/movie-reviews-sa/blob/main/MovieReviewSA_BERT.ipynb\" target=\"_parent\"><img src=\"https://colab.research.google.com/assets/colab-badge.svg\" alt=\"Open In Colab\"/></a>"
      ]
    },
    {
      "cell_type": "markdown",
      "source": [
        "# Movie Review Sentiment Analysis\n",
        "\n",
        "(Building a naive CNN with TensorFlow & BERT)\n",
        "\n"
      ],
      "metadata": {
        "id": "ldm7wDXwhZVh"
      }
    },
    {
      "cell_type": "code",
      "execution_count": null,
      "metadata": {
        "id": "lhz0iuwl7Pn1"
      },
      "outputs": [],
      "source": [
        "import pandas as pd\n",
        "import zipfile\n",
        "import numpy as np\n",
        "import matplotlib.pyplot as plt\n",
        "import seaborn as sb\n",
        "\n",
        "from tqdm import tqdm"
      ]
    },
    {
      "cell_type": "code",
      "source": [
        "from sklearn.model_selection import train_test_split\n",
        "from sklearn.metrics import confusion_matrix, ConfusionMatrixDisplay, accuracy_score, classification_report\n",
        "\n",
        "import tensorflow as tf\n",
        "print(tf.version.VERSION)"
      ],
      "metadata": {
        "id": "7IFA0B4ihhuV",
        "colab": {
          "base_uri": "https://localhost:8080/"
        },
        "outputId": "7fd3148e-357b-45f3-8b98-7cd44652824b"
      },
      "execution_count": null,
      "outputs": [
        {
          "output_type": "stream",
          "name": "stdout",
          "text": [
            "2.3.0\n"
          ]
        }
      ]
    },
    {
      "cell_type": "code",
      "source": [
        "!git clone --depth 1 -b v2.8.0 https://github.com/tensorflow/models.git"
      ],
      "metadata": {
        "colab": {
          "base_uri": "https://localhost:8080/"
        },
        "id": "RERqZfRzzJzO",
        "outputId": "fac0f825-21c5-4da3-830e-1db733130b99"
      },
      "execution_count": null,
      "outputs": [
        {
          "output_type": "stream",
          "name": "stdout",
          "text": [
            "fatal: destination path 'models' already exists and is not an empty directory.\n"
          ]
        }
      ]
    },
    {
      "cell_type": "code",
      "source": [
        "!pip install -Uqr models/official/requirements.txt"
      ],
      "metadata": {
        "id": "uctc1I2ezKbP"
      },
      "execution_count": null,
      "outputs": []
    },
    {
      "cell_type": "code",
      "source": [
        "import tensorflow_hub as hub\n",
        "import sys\n",
        "sys.path.append('models')\n",
        "\n",
        "from official.nlp.data import classifier_data_lib\n",
        "from official.nlp.bert import tokenization\n",
        "from official.nlp import optimization"
      ],
      "metadata": {
        "colab": {
          "base_uri": "https://localhost:8080/"
        },
        "id": "SJZL4wSYzXey",
        "outputId": "e50399ef-8294-42e6-c8d4-711d3073e792"
      },
      "execution_count": null,
      "outputs": [
        {
          "output_type": "stream",
          "name": "stderr",
          "text": [
            "/usr/local/lib/python3.7/dist-packages/tensorflow_addons/utils/ensure_tf_install.py:67: UserWarning: Tensorflow Addons supports using Python ops for all Tensorflow versions above or equal to 2.6.0 and strictly below 2.9.0 (nightly versions are not supported). \n",
            " The versions of TensorFlow you are currently using is 2.3.0 and is not supported. \n",
            "Some things might work, some things might not.\n",
            "If you were to encounter a bug, do not file an issue.\n",
            "If you want to make sure you're using a tested and supported configuration, either change the TensorFlow version or the TensorFlow Addons's version. \n",
            "You can find the compatibility matrix in TensorFlow Addon's readme:\n",
            "https://github.com/tensorflow/addons\n",
            "  UserWarning,\n"
          ]
        }
      ]
    },
    {
      "cell_type": "code",
      "source": [
        "print(\"TF Version: \", tf.__version__)\n",
        "print(\"Eager mode: \", tf.executing_eagerly())\n",
        "print(\"Hub version: \", hub.__version__)\n",
        "print(\"GPU is\", \"available\" if tf.config.experimental.list_physical_devices(\"GPU\") else \"NOT AVAILABLE\")"
      ],
      "metadata": {
        "colab": {
          "base_uri": "https://localhost:8080/"
        },
        "id": "eUMZ662T0des",
        "outputId": "5a81a1d3-2df3-45a6-a5b7-7f125a29ea7d"
      },
      "execution_count": null,
      "outputs": [
        {
          "output_type": "stream",
          "name": "stdout",
          "text": [
            "TF Version:  2.3.0\n",
            "Eager mode:  True\n",
            "Hub version:  0.12.0\n",
            "GPU is available\n"
          ]
        }
      ]
    },
    {
      "cell_type": "markdown",
      "source": [
        "## Importing data"
      ],
      "metadata": {
        "id": "abVa48Snh3LM"
      }
    },
    {
      "cell_type": "code",
      "source": [
        "from google.colab import drive\n",
        "drive.mount('/gdrive')"
      ],
      "metadata": {
        "colab": {
          "base_uri": "https://localhost:8080/"
        },
        "id": "AH9gmNkuh6qc",
        "outputId": "ac73d751-5b48-4669-8953-c8a14a6f39ab"
      },
      "execution_count": null,
      "outputs": [
        {
          "output_type": "stream",
          "name": "stdout",
          "text": [
            "Drive already mounted at /gdrive; to attempt to forcibly remount, call drive.mount(\"/gdrive\", force_remount=True).\n"
          ]
        }
      ]
    },
    {
      "cell_type": "code",
      "source": [
        "zip_data = '/gdrive/MyDrive/Colab Notebooks/sentiment-analysis-on-movie-reviews.zip'\n",
        "\n",
        "with zipfile.ZipFile(zip_data, 'r') as f:\n",
        "    f.extractall('/content/data/')"
      ],
      "metadata": {
        "id": "GyJ0WaZKiIxp"
      },
      "execution_count": null,
      "outputs": []
    },
    {
      "cell_type": "code",
      "source": [
        "test_zip = '/content/data/test.tsv.zip'\n",
        "\n",
        "with zipfile.ZipFile(test_zip, 'r') as f:\n",
        "    f.extractall('/content/data/')"
      ],
      "metadata": {
        "id": "YMmwEGzjiqRj"
      },
      "execution_count": null,
      "outputs": []
    },
    {
      "cell_type": "code",
      "source": [
        "train_zip = '/content/data/train.tsv.zip'\n",
        "\n",
        "with zipfile.ZipFile(train_zip, 'r') as f:\n",
        "    f.extractall('/content/data/')"
      ],
      "metadata": {
        "id": "7cpqngF2i32q"
      },
      "execution_count": null,
      "outputs": []
    },
    {
      "cell_type": "markdown",
      "source": [
        "## First look at the data"
      ],
      "metadata": {
        "id": "8qKxrCAqi7yE"
      }
    },
    {
      "cell_type": "code",
      "source": [
        "train_tsv = '/content/data/train.tsv'\n",
        "test_tsv = '/content/data/test.tsv'"
      ],
      "metadata": {
        "id": "5sksYWs8i98j"
      },
      "execution_count": null,
      "outputs": []
    },
    {
      "cell_type": "code",
      "source": [
        "train_df = pd.read_csv(train_tsv, sep = '\\t')"
      ],
      "metadata": {
        "id": "A-bIHpjcjC4m"
      },
      "execution_count": null,
      "outputs": []
    },
    {
      "cell_type": "code",
      "source": [
        "train_df.shape"
      ],
      "metadata": {
        "colab": {
          "base_uri": "https://localhost:8080/"
        },
        "id": "sErKmj8KjRDN",
        "outputId": "1a2911e4-c65c-49c8-93fc-02c2c0a07692"
      },
      "execution_count": null,
      "outputs": [
        {
          "output_type": "execute_result",
          "data": {
            "text/plain": [
              "(156060, 4)"
            ]
          },
          "metadata": {},
          "execution_count": 13
        }
      ]
    },
    {
      "cell_type": "code",
      "source": [
        "train_df.iloc[0]"
      ],
      "metadata": {
        "colab": {
          "base_uri": "https://localhost:8080/"
        },
        "id": "HkXI0BYWjTtT",
        "outputId": "ba18c063-bd33-4ce4-acc0-06b2167e4f43"
      },
      "execution_count": null,
      "outputs": [
        {
          "output_type": "execute_result",
          "data": {
            "text/plain": [
              "PhraseId                                                      1\n",
              "SentenceId                                                    1\n",
              "Phrase        A series of escapades demonstrating the adage ...\n",
              "Sentiment                                                     1\n",
              "Name: 0, dtype: object"
            ]
          },
          "metadata": {},
          "execution_count": 14
        }
      ]
    },
    {
      "cell_type": "markdown",
      "source": [
        "Drop PhraseId and SentenceId, since I guess it's useless btw"
      ],
      "metadata": {
        "id": "enw3QkygkFl_"
      }
    },
    {
      "cell_type": "code",
      "source": [
        "train_df = train_df.drop('PhraseId', axis = 1)\n",
        "train_df = train_df.drop('SentenceId', axis = 1)"
      ],
      "metadata": {
        "id": "fFv8su-vkPtx"
      },
      "execution_count": null,
      "outputs": []
    },
    {
      "cell_type": "code",
      "source": [
        "train_df"
      ],
      "metadata": {
        "colab": {
          "base_uri": "https://localhost:8080/",
          "height": 424
        },
        "id": "sq3hD5S-k0XQ",
        "outputId": "204b92e5-b64e-4209-8995-e2848e941693"
      },
      "execution_count": null,
      "outputs": [
        {
          "output_type": "execute_result",
          "data": {
            "text/html": [
              "\n",
              "  <div id=\"df-a5e8147f-f35d-420b-9c85-4242dc97249e\">\n",
              "    <div class=\"colab-df-container\">\n",
              "      <div>\n",
              "<style scoped>\n",
              "    .dataframe tbody tr th:only-of-type {\n",
              "        vertical-align: middle;\n",
              "    }\n",
              "\n",
              "    .dataframe tbody tr th {\n",
              "        vertical-align: top;\n",
              "    }\n",
              "\n",
              "    .dataframe thead th {\n",
              "        text-align: right;\n",
              "    }\n",
              "</style>\n",
              "<table border=\"1\" class=\"dataframe\">\n",
              "  <thead>\n",
              "    <tr style=\"text-align: right;\">\n",
              "      <th></th>\n",
              "      <th>Phrase</th>\n",
              "      <th>Sentiment</th>\n",
              "    </tr>\n",
              "  </thead>\n",
              "  <tbody>\n",
              "    <tr>\n",
              "      <th>0</th>\n",
              "      <td>A series of escapades demonstrating the adage ...</td>\n",
              "      <td>1</td>\n",
              "    </tr>\n",
              "    <tr>\n",
              "      <th>1</th>\n",
              "      <td>A series of escapades demonstrating the adage ...</td>\n",
              "      <td>2</td>\n",
              "    </tr>\n",
              "    <tr>\n",
              "      <th>2</th>\n",
              "      <td>A series</td>\n",
              "      <td>2</td>\n",
              "    </tr>\n",
              "    <tr>\n",
              "      <th>3</th>\n",
              "      <td>A</td>\n",
              "      <td>2</td>\n",
              "    </tr>\n",
              "    <tr>\n",
              "      <th>4</th>\n",
              "      <td>series</td>\n",
              "      <td>2</td>\n",
              "    </tr>\n",
              "    <tr>\n",
              "      <th>...</th>\n",
              "      <td>...</td>\n",
              "      <td>...</td>\n",
              "    </tr>\n",
              "    <tr>\n",
              "      <th>156055</th>\n",
              "      <td>Hearst 's</td>\n",
              "      <td>2</td>\n",
              "    </tr>\n",
              "    <tr>\n",
              "      <th>156056</th>\n",
              "      <td>forced avuncular chortles</td>\n",
              "      <td>1</td>\n",
              "    </tr>\n",
              "    <tr>\n",
              "      <th>156057</th>\n",
              "      <td>avuncular chortles</td>\n",
              "      <td>3</td>\n",
              "    </tr>\n",
              "    <tr>\n",
              "      <th>156058</th>\n",
              "      <td>avuncular</td>\n",
              "      <td>2</td>\n",
              "    </tr>\n",
              "    <tr>\n",
              "      <th>156059</th>\n",
              "      <td>chortles</td>\n",
              "      <td>2</td>\n",
              "    </tr>\n",
              "  </tbody>\n",
              "</table>\n",
              "<p>156060 rows × 2 columns</p>\n",
              "</div>\n",
              "      <button class=\"colab-df-convert\" onclick=\"convertToInteractive('df-a5e8147f-f35d-420b-9c85-4242dc97249e')\"\n",
              "              title=\"Convert this dataframe to an interactive table.\"\n",
              "              style=\"display:none;\">\n",
              "        \n",
              "  <svg xmlns=\"http://www.w3.org/2000/svg\" height=\"24px\"viewBox=\"0 0 24 24\"\n",
              "       width=\"24px\">\n",
              "    <path d=\"M0 0h24v24H0V0z\" fill=\"none\"/>\n",
              "    <path d=\"M18.56 5.44l.94 2.06.94-2.06 2.06-.94-2.06-.94-.94-2.06-.94 2.06-2.06.94zm-11 1L8.5 8.5l.94-2.06 2.06-.94-2.06-.94L8.5 2.5l-.94 2.06-2.06.94zm10 10l.94 2.06.94-2.06 2.06-.94-2.06-.94-.94-2.06-.94 2.06-2.06.94z\"/><path d=\"M17.41 7.96l-1.37-1.37c-.4-.4-.92-.59-1.43-.59-.52 0-1.04.2-1.43.59L10.3 9.45l-7.72 7.72c-.78.78-.78 2.05 0 2.83L4 21.41c.39.39.9.59 1.41.59.51 0 1.02-.2 1.41-.59l7.78-7.78 2.81-2.81c.8-.78.8-2.07 0-2.86zM5.41 20L4 18.59l7.72-7.72 1.47 1.35L5.41 20z\"/>\n",
              "  </svg>\n",
              "      </button>\n",
              "      \n",
              "  <style>\n",
              "    .colab-df-container {\n",
              "      display:flex;\n",
              "      flex-wrap:wrap;\n",
              "      gap: 12px;\n",
              "    }\n",
              "\n",
              "    .colab-df-convert {\n",
              "      background-color: #E8F0FE;\n",
              "      border: none;\n",
              "      border-radius: 50%;\n",
              "      cursor: pointer;\n",
              "      display: none;\n",
              "      fill: #1967D2;\n",
              "      height: 32px;\n",
              "      padding: 0 0 0 0;\n",
              "      width: 32px;\n",
              "    }\n",
              "\n",
              "    .colab-df-convert:hover {\n",
              "      background-color: #E2EBFA;\n",
              "      box-shadow: 0px 1px 2px rgba(60, 64, 67, 0.3), 0px 1px 3px 1px rgba(60, 64, 67, 0.15);\n",
              "      fill: #174EA6;\n",
              "    }\n",
              "\n",
              "    [theme=dark] .colab-df-convert {\n",
              "      background-color: #3B4455;\n",
              "      fill: #D2E3FC;\n",
              "    }\n",
              "\n",
              "    [theme=dark] .colab-df-convert:hover {\n",
              "      background-color: #434B5C;\n",
              "      box-shadow: 0px 1px 3px 1px rgba(0, 0, 0, 0.15);\n",
              "      filter: drop-shadow(0px 1px 2px rgba(0, 0, 0, 0.3));\n",
              "      fill: #FFFFFF;\n",
              "    }\n",
              "  </style>\n",
              "\n",
              "      <script>\n",
              "        const buttonEl =\n",
              "          document.querySelector('#df-a5e8147f-f35d-420b-9c85-4242dc97249e button.colab-df-convert');\n",
              "        buttonEl.style.display =\n",
              "          google.colab.kernel.accessAllowed ? 'block' : 'none';\n",
              "\n",
              "        async function convertToInteractive(key) {\n",
              "          const element = document.querySelector('#df-a5e8147f-f35d-420b-9c85-4242dc97249e');\n",
              "          const dataTable =\n",
              "            await google.colab.kernel.invokeFunction('convertToInteractive',\n",
              "                                                     [key], {});\n",
              "          if (!dataTable) return;\n",
              "\n",
              "          const docLinkHtml = 'Like what you see? Visit the ' +\n",
              "            '<a target=\"_blank\" href=https://colab.research.google.com/notebooks/data_table.ipynb>data table notebook</a>'\n",
              "            + ' to learn more about interactive tables.';\n",
              "          element.innerHTML = '';\n",
              "          dataTable['output_type'] = 'display_data';\n",
              "          await google.colab.output.renderOutput(dataTable, element);\n",
              "          const docLink = document.createElement('div');\n",
              "          docLink.innerHTML = docLinkHtml;\n",
              "          element.appendChild(docLink);\n",
              "        }\n",
              "      </script>\n",
              "    </div>\n",
              "  </div>\n",
              "  "
            ],
            "text/plain": [
              "                                                   Phrase  Sentiment\n",
              "0       A series of escapades demonstrating the adage ...          1\n",
              "1       A series of escapades demonstrating the adage ...          2\n",
              "2                                                A series          2\n",
              "3                                                       A          2\n",
              "4                                                  series          2\n",
              "...                                                   ...        ...\n",
              "156055                                          Hearst 's          2\n",
              "156056                          forced avuncular chortles          1\n",
              "156057                                 avuncular chortles          3\n",
              "156058                                          avuncular          2\n",
              "156059                                           chortles          2\n",
              "\n",
              "[156060 rows x 2 columns]"
            ]
          },
          "metadata": {},
          "execution_count": 16
        }
      ]
    },
    {
      "cell_type": "markdown",
      "source": [
        "Plotting sentiments"
      ],
      "metadata": {
        "id": "UEsEn6tamtcA"
      }
    },
    {
      "cell_type": "code",
      "source": [
        "counts = train_df['Sentiment'].value_counts()\n",
        "counts.plot.bar()\n",
        "plt.xlabel('Sentiment')\n",
        "plt.ylabel('Phrases')\n",
        "plt.show()"
      ],
      "metadata": {
        "colab": {
          "base_uri": "https://localhost:8080/",
          "height": 276
        },
        "id": "TsazkvxWmsNc",
        "outputId": "ae91165a-c6dc-4e73-ddcf-dbecfbc430d3"
      },
      "execution_count": null,
      "outputs": [
        {
          "output_type": "display_data",
          "data": {
            "image/png": "[encoded data removed]",
            "text/plain": [
              "<Figure size 432x288 with 1 Axes>"
            ]
          },
          "metadata": {
            "needs_background": "light"
          }
        }
      ]
    },
    {
      "cell_type": "markdown",
      "source": [
        "## Preprocessing\n",
        "Steps of preprocessing include:\n",
        "- Creating tf.data.Dataset for Training and Evaludation"
      ],
      "metadata": {
        "id": "RAoEg_nllDum"
      }
    },
    {
      "cell_type": "code",
      "source": [
        "train_df, remaining = train_test_split(train_df, random_state = 42, train_size = 0.075, stratify = train_df['Sentiment'].values)\n",
        "valid_df, _ = train_test_split(remaining, random_state = 42, train_size = 0.0075, stratify = remaining['Sentiment'].values)\n",
        "train_df.shape, valid_df.shape"
      ],
      "metadata": {
        "colab": {
          "base_uri": "https://localhost:8080/"
        },
        "id": "tL0huLja06uZ",
        "outputId": "67f034bf-48cd-476a-ca0a-0b75810620b2"
      },
      "execution_count": null,
      "outputs": [
        {
          "output_type": "execute_result",
          "data": {
            "text/plain": [
              "((11704, 2), (1082, 2))"
            ]
          },
          "metadata": {},
          "execution_count": 18
        }
      ]
    },
    {
      "cell_type": "code",
      "source": [
        "with tf.device('/cpu:0'):\n",
        "    train_data = tf.data.Dataset.from_tensor_slices(\n",
        "        (train_df['Phrase'].values, train_df['Sentiment'].values)\n",
        "    )\n",
        "\n",
        "    valid_data = tf.data.Dataset.from_tensor_slices(\n",
        "        (valid_df['Phrase'].values, valid_df['Sentiment'].values)\n",
        "    )\n",
        "\n",
        "for p, s in train_data.take(1):\n",
        "    print(p, s)\n",
        "\n",
        "for p, s in valid_data.take(1):\n",
        "    print(p, s)"
      ],
      "metadata": {
        "colab": {
          "base_uri": "https://localhost:8080/"
        },
        "id": "qNWX8ing1PPV",
        "outputId": "026e6103-ea4c-4fa7-8f54-be26947cde63"
      },
      "execution_count": null,
      "outputs": [
        {
          "output_type": "stream",
          "name": "stdout",
          "text": [
            "tf.Tensor(b'American History X', shape=(), dtype=string) tf.Tensor(2, shape=(), dtype=int64)\n",
            "tf.Tensor(b\"'s clear why Deuces Wild , which was shot two years ago , has been gathering dust on MGM 's shelf .\", shape=(), dtype=string) tf.Tensor(1, shape=(), dtype=int64)\n"
          ]
        }
      ]
    },
    {
      "cell_type": "markdown",
      "source": [
        "## Download a pre-trained BERT model from TensorFlow Hub"
      ],
      "metadata": {
        "id": "UOAmjQ_G1u9X"
      }
    },
    {
      "cell_type": "code",
      "source": [
        "# Label categories\n",
        "label_list = [0, 1, 2, 3, 4]\n",
        "\n",
        "# Maximum length of token input sequences\n",
        "max_seq_length = 128\n",
        "train_batch_size = 32\n",
        "\n",
        "# Get BERT layer and tokenizer\n",
        "bert_layer = hub.KerasLayer('https://tfhub.dev/tensorflow/bert_en_uncased_L-12_H-768_A-12/2', trainable = True)\n",
        "\n",
        "vocab_file = bert_layer.resolved_object.vocab_file.asset_path.numpy()\n",
        "do_lower_case = bert_layer.resolved_object.do_lower_case.numpy()\n",
        "tokenizer = tokenization.FullTokenizer(vocab_file, do_lower_case)"
      ],
      "metadata": {
        "id": "eIu-d8Bl1zZN"
      },
      "execution_count": null,
      "outputs": []
    },
    {
      "cell_type": "code",
      "source": [
        "tokenizer.wordpiece_tokenizer.tokenize('a broken family')"
      ],
      "metadata": {
        "colab": {
          "base_uri": "https://localhost:8080/"
        },
        "id": "8GyW7xyl2c7O",
        "outputId": "f9c66c2c-c568-4be2-84da-1284e6d260b4"
      },
      "execution_count": null,
      "outputs": [
        {
          "output_type": "execute_result",
          "data": {
            "text/plain": [
              "['a', 'broken', 'family']"
            ]
          },
          "metadata": {},
          "execution_count": 21
        }
      ]
    },
    {
      "cell_type": "code",
      "source": [
        "tokenizer.convert_tokens_to_ids(tokenizer.wordpiece_tokenizer.tokenize('a broken family'))"
      ],
      "metadata": {
        "colab": {
          "base_uri": "https://localhost:8080/"
        },
        "id": "3E67jdi62zLm",
        "outputId": "df84c992-1a9c-4eac-dd3f-48752b10c529"
      },
      "execution_count": null,
      "outputs": [
        {
          "output_type": "execute_result",
          "data": {
            "text/plain": [
              "[1037, 3714, 2155]"
            ]
          },
          "metadata": {},
          "execution_count": 22
        }
      ]
    },
    {
      "cell_type": "markdown",
      "source": [
        "## Tokenize and preprocess text for BERT"
      ],
      "metadata": {
        "id": "rbldWUKy2678"
      }
    },
    {
      "cell_type": "code",
      "source": [
        "def to_feature(text, label, label_list = label_list, max_seq_length = max_seq_length, tokenizer = tokenizer):\n",
        "    example = classifier_data_lib.InputExample(\n",
        "        guid = None,\n",
        "        text_a = text.numpy(),\n",
        "        text_b = None,\n",
        "        label = label.numpy()\n",
        "    )\n",
        "\n",
        "    feature = classifier_data_lib.convert_single_example(\n",
        "        0, example, label_list, max_seq_length, tokenizer\n",
        "    )\n",
        "\n",
        "    return (feature.input_ids, feature.input_mask, feature.segment_ids, feature.label_id)"
      ],
      "metadata": {
        "id": "BWeAEk-D3ARZ"
      },
      "execution_count": null,
      "outputs": []
    },
    {
      "cell_type": "code",
      "source": [
        "def to_feature_map(text, label):\n",
        "    input_ids, input_mask, segment_ids, label_id = tf.py_function(\n",
        "        to_feature, inp = [text, label],\n",
        "        Tout = [tf.int32, tf.int32, tf.int32, tf.int32]\n",
        "    )\n",
        "\n",
        "    input_ids.set_shape([max_seq_length])\n",
        "    input_mask.set_shape([max_seq_length])\n",
        "    segment_ids.set_shape([max_seq_length])\n",
        "    label_id.set_shape([])\n",
        "\n",
        "    x = {\n",
        "        'input_word_ids' : input_ids,\n",
        "        'input_mask' : input_mask,\n",
        "        'input_type_ids' : segment_ids\n",
        "    }\n",
        "\n",
        "    return (x, label_id)"
      ],
      "metadata": {
        "id": "0kx62N6t3l2e"
      },
      "execution_count": null,
      "outputs": []
    },
    {
      "cell_type": "code",
      "source": [
        "with tf.device('/cpu:0'):\n",
        "    # train\n",
        "    train_data = (train_data.map(\n",
        "        to_feature_map,\n",
        "        num_parallel_calls = tf.data.experimental.AUTOTUNE\n",
        "    )\n",
        "    .shuffle(1000)\n",
        "    .batch(32, drop_remainder = True)\n",
        "    .prefetch(tf.data.experimental.AUTOTUNE))\n",
        "\n",
        "    # valid\n",
        "    valid_data = (valid_data.map(\n",
        "        to_feature_map,\n",
        "        num_parallel_calls = tf.data.experimental.AUTOTUNE\n",
        "    )\n",
        "    .batch(32, drop_remainder = True)\n",
        "    .prefetch(tf.data.experimental.AUTOTUNE))"
      ],
      "metadata": {
        "id": "N31gTAzM5D97"
      },
      "execution_count": null,
      "outputs": []
    },
    {
      "cell_type": "code",
      "source": [
        "train_data.element_spec"
      ],
      "metadata": {
        "colab": {
          "base_uri": "https://localhost:8080/"
        },
        "id": "Btu1IRAd5hHC",
        "outputId": "0c37e6da-677e-4327-9ec6-4dd5e7b39630"
      },
      "execution_count": null,
      "outputs": [
        {
          "output_type": "execute_result",
          "data": {
            "text/plain": [
              "({'input_mask': TensorSpec(shape=(32, 128), dtype=tf.int32, name=None),\n",
              "  'input_type_ids': TensorSpec(shape=(32, 128), dtype=tf.int32, name=None),\n",
              "  'input_word_ids': TensorSpec(shape=(32, 128), dtype=tf.int32, name=None)},\n",
              " TensorSpec(shape=(32,), dtype=tf.int32, name=None))"
            ]
          },
          "metadata": {},
          "execution_count": 26
        }
      ]
    },
    {
      "cell_type": "code",
      "source": [
        "valid_data.element_spec"
      ],
      "metadata": {
        "colab": {
          "base_uri": "https://localhost:8080/"
        },
        "id": "WE1lMjB-5jfC",
        "outputId": "c63de5c8-ff7e-4d8f-f05c-020fa9d40bf0"
      },
      "execution_count": null,
      "outputs": [
        {
          "output_type": "execute_result",
          "data": {
            "text/plain": [
              "({'input_mask': TensorSpec(shape=(32, 128), dtype=tf.int32, name=None),\n",
              "  'input_type_ids': TensorSpec(shape=(32, 128), dtype=tf.int32, name=None),\n",
              "  'input_word_ids': TensorSpec(shape=(32, 128), dtype=tf.int32, name=None)},\n",
              " TensorSpec(shape=(32,), dtype=tf.int32, name=None))"
            ]
          },
          "metadata": {},
          "execution_count": 27
        }
      ]
    },
    {
      "cell_type": "code",
      "source": [
        "def create_model():\n",
        "    input_word_ids = tf.keras.layers.Input(shape = (max_seq_length,), dtype = tf.int32,\n",
        "                                           name = 'input_word_ids')\n",
        "    \n",
        "    input_mask = tf.keras.layers.Input(shape = (max_seq_length,), dtype = tf.int32,\n",
        "                                       name = 'input_mask')\n",
        "    \n",
        "    input_type_ids = tf.keras.layers.Input(shape = (max_seq_length,), dtype = tf.int32,\n",
        "                                       name = 'input_type_ids')\n",
        "    \n",
        "    pooled_output, sequence_output = bert_layer([input_word_ids, input_mask, input_type_ids])\n",
        "\n",
        "    drop = tf.keras.layers.Dropout(0.4)(pooled_output)\n",
        "\n",
        "    output = tf.keras.layers.Dense(5, activation = 'softmax', name = 'output')(drop)\n",
        "\n",
        "    model = tf.keras.Model(\n",
        "        inputs = {\n",
        "            'input_word_ids' : input_word_ids,\n",
        "            'input_mask' : input_mask,\n",
        "            'input_type_ids' : input_type_ids\n",
        "        },\n",
        "        outputs = output\n",
        "    )\n",
        "\n",
        "    return model"
      ],
      "metadata": {
        "id": "NbkidePU5mZZ"
      },
      "execution_count": null,
      "outputs": []
    },
    {
      "cell_type": "code",
      "source": [
        "model = create_model()\n",
        "model.compile(\n",
        "    optimizer = tf.keras.optimizers.Adam(learning_rate = 2e-5),\n",
        "    loss = tf.keras.losses.sparse_categorical_crossentropy,\n",
        "    metrics = ['sparse_categorical_accuracy']\n",
        ")\n",
        "model.summary()"
      ],
      "metadata": {
        "colab": {
          "base_uri": "https://localhost:8080/"
        },
        "id": "SEewpGq26VL1",
        "outputId": "af9bcf05-452f-4bc9-bbe4-ad8d7539a8e9"
      },
      "execution_count": null,
      "outputs": [
        {
          "output_type": "stream",
          "name": "stdout",
          "text": [
            "Model: \"functional_1\"\n",
            "__________________________________________________________________________________________________\n",
            "Layer (type)                    Output Shape         Param #     Connected to                     \n",
            "==================================================================================================\n",
            "input_word_ids (InputLayer)     [(None, 128)]        0                                            \n",
            "__________________________________________________________________________________________________\n",
            "input_mask (InputLayer)         [(None, 128)]        0                                            \n",
            "__________________________________________________________________________________________________\n",
            "input_type_ids (InputLayer)     [(None, 128)]        0                                            \n",
            "__________________________________________________________________________________________________\n",
            "keras_layer (KerasLayer)        [(None, 768), (None, 109482241   input_word_ids[0][0]             \n",
            "                                                                 input_mask[0][0]                 \n",
            "                                                                 input_type_ids[0][0]             \n",
            "__________________________________________________________________________________________________\n",
            "dropout (Dropout)               (None, 768)          0           keras_layer[0][0]                \n",
            "__________________________________________________________________________________________________\n",
            "output (Dense)                  (None, 5)            3845        dropout[0][0]                    \n",
            "==================================================================================================\n",
            "Total params: 109,486,086\n",
            "Trainable params: 109,486,085\n",
            "Non-trainable params: 1\n",
            "__________________________________________________________________________________________________\n"
          ]
        }
      ]
    },
    {
      "cell_type": "code",
      "source": [
        "tf.keras.utils.plot_model(model = model, show_shapes = True, dpi = 76)"
      ],
      "metadata": {
        "colab": {
          "base_uri": "https://localhost:8080/",
          "height": 338
        },
        "id": "uCYLG2FD64PL",
        "outputId": "ff7d596b-4b45-48c8-da81-7e8b38b0a317"
      },
      "execution_count": null,
      "outputs": [
        {
          "output_type": "execute_result",
          "data": {
            "image/png": "[encoded data removed]",
            "text/plain": [
              "<IPython.core.display.Image object>"
            ]
          },
          "metadata": {},
          "execution_count": 30
        }
      ]
    },
    {
      "cell_type": "markdown",
      "source": [
        "## Train model"
      ],
      "metadata": {
        "id": "Ry93jWOk7C2S"
      }
    },
    {
      "cell_type": "code",
      "source": [
        "epochs = 4\n",
        "hist = model.fit(train_data,\n",
        "                 validation_data = valid_data,\n",
        "                 epochs = epochs,\n",
        "                 batch_size = train_batch_size,\n",
        "                 verbose = 1)"
      ],
      "metadata": {
        "colab": {
          "base_uri": "https://localhost:8080/"
        },
        "id": "ODNwrZKZ7EDL",
        "outputId": "9ee2ad78-fe07-4323-ea5e-3c185ab8c869"
      },
      "execution_count": null,
      "outputs": [
        {
          "output_type": "stream",
          "name": "stdout",
          "text": [
            "Epoch 1/4\n",
            "365/365 [==============================] - ETA: 0s - loss: 1.0491 - sparse_categorical_accuracy: 0.5748WARNING:tensorflow:Callbacks method `on_test_batch_end` is slow compared to the batch time (batch time: 0.0423s vs `on_test_batch_end` time: 0.4950s). Check your callbacks.\n"
          ]
        },
        {
          "output_type": "stream",
          "name": "stderr",
          "text": [
            "WARNING:tensorflow:Callbacks method `on_test_batch_end` is slow compared to the batch time (batch time: 0.0423s vs `on_test_batch_end` time: 0.4950s). Check your callbacks.\n"
          ]
        },
        {
          "output_type": "stream",
          "name": "stdout",
          "text": [
            "\b\b\b\b\b\b\b\b\b\b\b\b\b\b\b\b\b\b\b\b\b\b\b\b\b\b\b\b\b\b\b\b\b\b\b\b\b\b\b\b\b\b\b\b\b\b\b\b\b\b\b\b\b\b\b\b\b\b\b\b\b\b\b\b\b\b\b\b\b\b\b\b\b\b\b\b\b\b\b\b\b\b\b\b\b\b\b\b\b\b\b\b\b\b\b\b\b\b\b\b\b\b\b\r365/365 [==============================] - 575s 2s/step - loss: 1.0491 - sparse_categorical_accuracy: 0.5748 - val_loss: 0.8175 - val_sparse_categorical_accuracy: 0.6657\n",
            "Epoch 2/4\n",
            "365/365 [==============================] - 573s 2s/step - loss: 0.7604 - sparse_categorical_accuracy: 0.6940 - val_loss: 0.8112 - val_sparse_categorical_accuracy: 0.6506\n",
            "Epoch 3/4\n",
            "365/365 [==============================] - 573s 2s/step - loss: 0.5946 - sparse_categorical_accuracy: 0.7691 - val_loss: 1.0156 - val_sparse_categorical_accuracy: 0.6127\n",
            "Epoch 4/4\n",
            "365/365 [==============================] - 574s 2s/step - loss: 0.4359 - sparse_categorical_accuracy: 0.8317 - val_loss: 1.0693 - val_sparse_categorical_accuracy: 0.6572\n"
          ]
        }
      ]
    },
    {
      "cell_type": "markdown",
      "source": [
        "Evaluating BERT Text Classification Model"
      ],
      "metadata": {
        "id": "8CIKgqqiBOh-"
      }
    },
    {
      "cell_type": "code",
      "source": [
        "import matplotlib.pyplot as plt\n",
        "\n",
        "def plot_graphs(history, metric):\n",
        "  plt.plot(history.history[metric])\n",
        "  plt.plot(history.history['val_'+metric], '')\n",
        "  plt.xlabel(\"Epochs\")\n",
        "  plt.ylabel(metric)\n",
        "  plt.legend([metric, 'val_'+metric])\n",
        "  plt.show()"
      ],
      "metadata": {
        "id": "XdS1UoXFBONZ"
      },
      "execution_count": null,
      "outputs": []
    },
    {
      "cell_type": "code",
      "source": [
        "plot_graphs(hist, 'loss')"
      ],
      "metadata": {
        "colab": {
          "base_uri": "https://localhost:8080/",
          "height": 283
        },
        "id": "ZuEjPAiEBU8n",
        "outputId": "b76ddd7b-45ee-40ba-835d-c6682d61f1ef"
      },
      "execution_count": null,
      "outputs": [
        {
          "output_type": "display_data",
          "data": {
            "image/png": "[encoded data removed]",
            "text/plain": [
              "<Figure size 432x288 with 1 Axes>"
            ]
          },
          "metadata": {
            "needs_background": "light"
          }
        }
      ]
    },
    {
      "cell_type": "code",
      "source": [
        "plot_graphs(hist, 'sparse_categorical_accuracy')"
      ],
      "metadata": {
        "colab": {
          "base_uri": "https://localhost:8080/",
          "height": 279
        },
        "id": "j_8DJD3TBX2b",
        "outputId": "c46facd1-56e6-41ab-b186-ec9d05c42318"
      },
      "execution_count": null,
      "outputs": [
        {
          "output_type": "display_data",
          "data": {
            "image/png": "[encoded data removed]",
            "text/plain": [
              "<Figure size 432x288 with 1 Axes>"
            ]
          },
          "metadata": {
            "needs_background": "light"
          }
        }
      ]
    },
    {
      "cell_type": "code",
      "source": [
        "def get_labels_from_tfdataset(tfdataset, batched = False):\n",
        "    labels = list(map(lambda x : x[1].numpy(), tfdataset))\n",
        "\n",
        "    if not batched:\n",
        "        return tf.concat(labels, axis = 0)\n",
        "\n",
        "    return labels"
      ],
      "metadata": {
        "id": "9QODD7eUV2OB"
      },
      "execution_count": null,
      "outputs": []
    },
    {
      "cell_type": "code",
      "source": [
        "y_test = get_labels_from_tfdataset(valid_data)\n",
        "y_pred = [np.argmax(s) for s in model.predict(valid_data)]"
      ],
      "metadata": {
        "id": "yM2d3BGUSjpO"
      },
      "execution_count": null,
      "outputs": []
    },
    {
      "cell_type": "code",
      "source": [
        "print(len(y_test))"
      ],
      "metadata": {
        "colab": {
          "base_uri": "https://localhost:8080/"
        },
        "id": "QQnBk5IZUCpg",
        "outputId": "54ce1a50-2b3e-4c21-a1c1-72d7acd107a1"
      },
      "execution_count": null,
      "outputs": [
        {
          "output_type": "stream",
          "name": "stdout",
          "text": [
            "1056\n"
          ]
        }
      ]
    },
    {
      "cell_type": "code",
      "source": [
        "# Confusion matrix\n",
        "cm = confusion_matrix(y_test, y_pred, labels = label_list)\n",
        "disp = ConfusionMatrixDisplay(confusion_matrix = cm, display_labels = label_list)\n",
        "disp.plot()"
      ],
      "metadata": {
        "colab": {
          "base_uri": "https://localhost:8080/",
          "height": 296
        },
        "id": "DwUnURiVT3Ka",
        "outputId": "ef06b8cd-7f14-4db2-9a5d-9767351322b1"
      },
      "execution_count": null,
      "outputs": [
        {
          "output_type": "execute_result",
          "data": {
            "text/plain": [
              "<sklearn.metrics._plot.confusion_matrix.ConfusionMatrixDisplay at 0x7f66c5faeed0>"
            ]
          },
          "metadata": {},
          "execution_count": 67
        },
        {
          "output_type": "display_data",
          "data": {
            "image/png": "[encoded data removed]",
            "text/plain": [
              "<Figure size 432x288 with 2 Axes>"
            ]
          },
          "metadata": {
            "needs_background": "light"
          }
        }
      ]
    },
    {
      "cell_type": "code",
      "source": [
        "# Classification Report\n",
        "print(classification_report(y_test, y_pred, target_names = [str(x) for x in label_list]))"
      ],
      "metadata": {
        "colab": {
          "base_uri": "https://localhost:8080/"
        },
        "id": "NP2pIoPKUM5G",
        "outputId": "b36ae99a-0634-468a-99d6-75476b4af1fa"
      },
      "execution_count": null,
      "outputs": [
        {
          "output_type": "stream",
          "name": "stdout",
          "text": [
            "              precision    recall  f1-score   support\n",
            "\n",
            "           0       0.35      0.46      0.40        48\n",
            "           1       0.54      0.45      0.49       185\n",
            "           2       0.76      0.78      0.77       538\n",
            "           3       0.59      0.60      0.60       222\n",
            "           4       0.59      0.59      0.59        63\n",
            "\n",
            "    accuracy                           0.66      1056\n",
            "   macro avg       0.57      0.57      0.57      1056\n",
            "weighted avg       0.66      0.66      0.66      1056\n",
            "\n"
          ]
        }
      ]
    },
    {
      "cell_type": "markdown",
      "source": [
        "## Create submission"
      ],
      "metadata": {
        "id": "U52IpeFP1MXO"
      }
    },
    {
      "cell_type": "markdown",
      "source": [
        "Now we have the submission model, let's predict and write predictions to submission file."
      ],
      "metadata": {
        "id": "vb60PLYSQuwx"
      }
    },
    {
      "cell_type": "code",
      "source": [
        "test_df = pd.read_csv(test_tsv, sep = '\\t')"
      ],
      "metadata": {
        "id": "ydjjiLrO1QGE"
      },
      "execution_count": null,
      "outputs": []
    },
    {
      "cell_type": "code",
      "source": [
        "list_phrase_ids = test_df['PhraseId']\n",
        "list_phrases = test_df['Phrase']"
      ],
      "metadata": {
        "id": "c4BEsrI7117E"
      },
      "execution_count": null,
      "outputs": []
    },
    {
      "cell_type": "code",
      "source": [
        "test_data = tf.data.Dataset.from_tensor_slices((list_phrases, [0] * len(list_phrases)))\n",
        "test_data = (test_data.map(to_feature_map).batch(1))\n",
        "\n",
        "sentiments = model.predict(test_data)"
      ],
      "metadata": {
        "id": "bfT92a9g2A3N"
      },
      "execution_count": null,
      "outputs": []
    },
    {
      "cell_type": "code",
      "source": [
        "pd.DataFrame({\n",
        "    'PhraseId' : list_phrase_ids,\n",
        "    'Sentiment' : [np.argmax(s) for s in sentiments]\n",
        "}).to_csv('submission.csv', index = False)"
      ],
      "metadata": {
        "id": "UpjQVD5U2g1o"
      },
      "execution_count": null,
      "outputs": []
    }
  ]
}