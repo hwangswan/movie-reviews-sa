{
  "nbformat": 4,
  "nbformat_minor": 0,
  "metadata": {
    "colab": {
      "name": "MovieReviewSA.ipynb",
      "provenance": [],
      "authorship_tag": "ABX9TyPmMjF9E/jB8q6S/kRHml1I",
      "include_colab_link": true
    },
    "kernelspec": {
      "name": "python3",
      "display_name": "Python 3"
    },
    "language_info": {
      "name": "python"
    }
  },
  "cells": [
    {
      "cell_type": "markdown",
      "metadata": {
        "id": "view-in-github",
        "colab_type": "text"
      },
      "source": [
        "<a href=\"https://colab.research.google.com/github/hwangswan/movie-reviews-sa/blob/main/MovieReviewSA.ipynb\" target=\"_parent\"><img src=\"https://colab.research.google.com/assets/colab-badge.svg\" alt=\"Open In Colab\"/></a>"
      ]
    },
    {
      "cell_type": "markdown",
      "source": [
        "# Movie Review Sentiment Analysis\n",
        "\n",
        "(using Naive Bayes classifier)\n",
        "\n"
      ],
      "metadata": {
        "id": "ldm7wDXwhZVh"
      }
    },
    {
      "cell_type": "code",
      "execution_count": 1,
      "metadata": {
        "id": "lhz0iuwl7Pn1"
      },
      "outputs": [],
      "source": [
        "import pandas as pd\n",
        "import zipfile\n",
        "import numpy as np\n",
        "import matplotlib.pyplot as plt"
      ]
    },
    {
      "cell_type": "code",
      "source": [
        "from sklearn.naive_bayes import MultinomialNB\n",
        "from sklearn.feature_extraction.text import CountVectorizer\n",
        "from sklearn.model_selection import train_test_split\n",
        "\n",
        "from tqdm import tqdm"
      ],
      "metadata": {
        "id": "7IFA0B4ihhuV"
      },
      "execution_count": 29,
      "outputs": []
    },
    {
      "cell_type": "markdown",
      "source": [
        "## Importing and preprocessing data"
      ],
      "metadata": {
        "id": "abVa48Snh3LM"
      }
    },
    {
      "cell_type": "code",
      "source": [
        "from google.colab import drive\n",
        "drive.mount('/gdrive')"
      ],
      "metadata": {
        "colab": {
          "base_uri": "https://localhost:8080/"
        },
        "id": "AH9gmNkuh6qc",
        "outputId": "7765b909-8a67-407c-e471-d94b6bc35ca6"
      },
      "execution_count": 3,
      "outputs": [
        {
          "output_type": "stream",
          "name": "stdout",
          "text": [
            "Drive already mounted at /gdrive; to attempt to forcibly remount, call drive.mount(\"/gdrive\", force_remount=True).\n"
          ]
        }
      ]
    },
    {
      "cell_type": "code",
      "source": [
        "zip_data = '/gdrive/MyDrive/Colab Notebooks/sentiment-analysis-on-movie-reviews.zip'\n",
        "\n",
        "with zipfile.ZipFile(zip_data, 'r') as f:\n",
        "    f.extractall('/content/data/')"
      ],
      "metadata": {
        "id": "GyJ0WaZKiIxp"
      },
      "execution_count": 4,
      "outputs": []
    },
    {
      "cell_type": "code",
      "source": [
        "test_zip = '/content/data/test.tsv.zip'\n",
        "\n",
        "with zipfile.ZipFile(test_zip, 'r') as f:\n",
        "    f.extractall('/content/data/')"
      ],
      "metadata": {
        "id": "YMmwEGzjiqRj"
      },
      "execution_count": 5,
      "outputs": []
    },
    {
      "cell_type": "code",
      "source": [
        "train_zip = '/content/data/train.tsv.zip'\n",
        "\n",
        "with zipfile.ZipFile(train_zip, 'r') as f:\n",
        "    f.extractall('/content/data/')"
      ],
      "metadata": {
        "id": "7cpqngF2i32q"
      },
      "execution_count": 6,
      "outputs": []
    },
    {
      "cell_type": "markdown",
      "source": [
        "## First look at the data"
      ],
      "metadata": {
        "id": "8qKxrCAqi7yE"
      }
    },
    {
      "cell_type": "code",
      "source": [
        "train_tsv = '/content/data/train.tsv'\n",
        "test_tsv = '/content/data/test.tsv'"
      ],
      "metadata": {
        "id": "5sksYWs8i98j"
      },
      "execution_count": 7,
      "outputs": []
    },
    {
      "cell_type": "code",
      "source": [
        "train_df = pd.read_csv(train_tsv, sep = '\\t')"
      ],
      "metadata": {
        "id": "A-bIHpjcjC4m"
      },
      "execution_count": 8,
      "outputs": []
    },
    {
      "cell_type": "code",
      "source": [
        "train_df.shape"
      ],
      "metadata": {
        "colab": {
          "base_uri": "https://localhost:8080/"
        },
        "id": "sErKmj8KjRDN",
        "outputId": "efa6e14a-d246-443c-c0d8-34120f227b56"
      },
      "execution_count": 9,
      "outputs": [
        {
          "output_type": "execute_result",
          "data": {
            "text/plain": [
              "(156060, 4)"
            ]
          },
          "metadata": {},
          "execution_count": 9
        }
      ]
    },
    {
      "cell_type": "code",
      "source": [
        "train_df.iloc[0]"
      ],
      "metadata": {
        "colab": {
          "base_uri": "https://localhost:8080/"
        },
        "id": "HkXI0BYWjTtT",
        "outputId": "d4e65e32-d715-4754-90a1-961a4a47eb70"
      },
      "execution_count": 10,
      "outputs": [
        {
          "output_type": "execute_result",
          "data": {
            "text/plain": [
              "PhraseId                                                      1\n",
              "SentenceId                                                    1\n",
              "Phrase        A series of escapades demonstrating the adage ...\n",
              "Sentiment                                                     1\n",
              "Name: 0, dtype: object"
            ]
          },
          "metadata": {},
          "execution_count": 10
        }
      ]
    },
    {
      "cell_type": "markdown",
      "source": [
        "Drop PhraseId and SentenceId, since I guess it's useless btw"
      ],
      "metadata": {
        "id": "enw3QkygkFl_"
      }
    },
    {
      "cell_type": "code",
      "source": [
        "train_df = train_df.drop('PhraseId', axis = 1)\n",
        "train_df = train_df.drop('SentenceId', axis = 1)"
      ],
      "metadata": {
        "id": "fFv8su-vkPtx"
      },
      "execution_count": 11,
      "outputs": []
    },
    {
      "cell_type": "code",
      "source": [
        "train_df"
      ],
      "metadata": {
        "colab": {
          "base_uri": "https://localhost:8080/",
          "height": 424
        },
        "id": "sq3hD5S-k0XQ",
        "outputId": "53867315-f166-4061-873d-c74b6801ca60"
      },
      "execution_count": 12,
      "outputs": [
        {
          "output_type": "execute_result",
          "data": {
            "text/html": [
              "\n",
              "  <div id=\"df-9c2ca649-d6b5-4965-b31b-a448f4e2be56\">\n",
              "    <div class=\"colab-df-container\">\n",
              "      <div>\n",
              "<style scoped>\n",
              "    .dataframe tbody tr th:only-of-type {\n",
              "        vertical-align: middle;\n",
              "    }\n",
              "\n",
              "    .dataframe tbody tr th {\n",
              "        vertical-align: top;\n",
              "    }\n",
              "\n",
              "    .dataframe thead th {\n",
              "        text-align: right;\n",
              "    }\n",
              "</style>\n",
              "<table border=\"1\" class=\"dataframe\">\n",
              "  <thead>\n",
              "    <tr style=\"text-align: right;\">\n",
              "      <th></th>\n",
              "      <th>Phrase</th>\n",
              "      <th>Sentiment</th>\n",
              "    </tr>\n",
              "  </thead>\n",
              "  <tbody>\n",
              "    <tr>\n",
              "      <th>0</th>\n",
              "      <td>A series of escapades demonstrating the adage ...</td>\n",
              "      <td>1</td>\n",
              "    </tr>\n",
              "    <tr>\n",
              "      <th>1</th>\n",
              "      <td>A series of escapades demonstrating the adage ...</td>\n",
              "      <td>2</td>\n",
              "    </tr>\n",
              "    <tr>\n",
              "      <th>2</th>\n",
              "      <td>A series</td>\n",
              "      <td>2</td>\n",
              "    </tr>\n",
              "    <tr>\n",
              "      <th>3</th>\n",
              "      <td>A</td>\n",
              "      <td>2</td>\n",
              "    </tr>\n",
              "    <tr>\n",
              "      <th>4</th>\n",
              "      <td>series</td>\n",
              "      <td>2</td>\n",
              "    </tr>\n",
              "    <tr>\n",
              "      <th>...</th>\n",
              "      <td>...</td>\n",
              "      <td>...</td>\n",
              "    </tr>\n",
              "    <tr>\n",
              "      <th>156055</th>\n",
              "      <td>Hearst 's</td>\n",
              "      <td>2</td>\n",
              "    </tr>\n",
              "    <tr>\n",
              "      <th>156056</th>\n",
              "      <td>forced avuncular chortles</td>\n",
              "      <td>1</td>\n",
              "    </tr>\n",
              "    <tr>\n",
              "      <th>156057</th>\n",
              "      <td>avuncular chortles</td>\n",
              "      <td>3</td>\n",
              "    </tr>\n",
              "    <tr>\n",
              "      <th>156058</th>\n",
              "      <td>avuncular</td>\n",
              "      <td>2</td>\n",
              "    </tr>\n",
              "    <tr>\n",
              "      <th>156059</th>\n",
              "      <td>chortles</td>\n",
              "      <td>2</td>\n",
              "    </tr>\n",
              "  </tbody>\n",
              "</table>\n",
              "<p>156060 rows × 2 columns</p>\n",
              "</div>\n",
              "      <button class=\"colab-df-convert\" onclick=\"convertToInteractive('df-9c2ca649-d6b5-4965-b31b-a448f4e2be56')\"\n",
              "              title=\"Convert this dataframe to an interactive table.\"\n",
              "              style=\"display:none;\">\n",
              "        \n",
              "  <svg xmlns=\"http://www.w3.org/2000/svg\" height=\"24px\"viewBox=\"0 0 24 24\"\n",
              "       width=\"24px\">\n",
              "    <path d=\"M0 0h24v24H0V0z\" fill=\"none\"/>\n",
              "    <path d=\"M18.56 5.44l.94 2.06.94-2.06 2.06-.94-2.06-.94-.94-2.06-.94 2.06-2.06.94zm-11 1L8.5 8.5l.94-2.06 2.06-.94-2.06-.94L8.5 2.5l-.94 2.06-2.06.94zm10 10l.94 2.06.94-2.06 2.06-.94-2.06-.94-.94-2.06-.94 2.06-2.06.94z\"/><path d=\"M17.41 7.96l-1.37-1.37c-.4-.4-.92-.59-1.43-.59-.52 0-1.04.2-1.43.59L10.3 9.45l-7.72 7.72c-.78.78-.78 2.05 0 2.83L4 21.41c.39.39.9.59 1.41.59.51 0 1.02-.2 1.41-.59l7.78-7.78 2.81-2.81c.8-.78.8-2.07 0-2.86zM5.41 20L4 18.59l7.72-7.72 1.47 1.35L5.41 20z\"/>\n",
              "  </svg>\n",
              "      </button>\n",
              "      \n",
              "  <style>\n",
              "    .colab-df-container {\n",
              "      display:flex;\n",
              "      flex-wrap:wrap;\n",
              "      gap: 12px;\n",
              "    }\n",
              "\n",
              "    .colab-df-convert {\n",
              "      background-color: #E8F0FE;\n",
              "      border: none;\n",
              "      border-radius: 50%;\n",
              "      cursor: pointer;\n",
              "      display: none;\n",
              "      fill: #1967D2;\n",
              "      height: 32px;\n",
              "      padding: 0 0 0 0;\n",
              "      width: 32px;\n",
              "    }\n",
              "\n",
              "    .colab-df-convert:hover {\n",
              "      background-color: #E2EBFA;\n",
              "      box-shadow: 0px 1px 2px rgba(60, 64, 67, 0.3), 0px 1px 3px 1px rgba(60, 64, 67, 0.15);\n",
              "      fill: #174EA6;\n",
              "    }\n",
              "\n",
              "    [theme=dark] .colab-df-convert {\n",
              "      background-color: #3B4455;\n",
              "      fill: #D2E3FC;\n",
              "    }\n",
              "\n",
              "    [theme=dark] .colab-df-convert:hover {\n",
              "      background-color: #434B5C;\n",
              "      box-shadow: 0px 1px 3px 1px rgba(0, 0, 0, 0.15);\n",
              "      filter: drop-shadow(0px 1px 2px rgba(0, 0, 0, 0.3));\n",
              "      fill: #FFFFFF;\n",
              "    }\n",
              "  </style>\n",
              "\n",
              "      <script>\n",
              "        const buttonEl =\n",
              "          document.querySelector('#df-9c2ca649-d6b5-4965-b31b-a448f4e2be56 button.colab-df-convert');\n",
              "        buttonEl.style.display =\n",
              "          google.colab.kernel.accessAllowed ? 'block' : 'none';\n",
              "\n",
              "        async function convertToInteractive(key) {\n",
              "          const element = document.querySelector('#df-9c2ca649-d6b5-4965-b31b-a448f4e2be56');\n",
              "          const dataTable =\n",
              "            await google.colab.kernel.invokeFunction('convertToInteractive',\n",
              "                                                     [key], {});\n",
              "          if (!dataTable) return;\n",
              "\n",
              "          const docLinkHtml = 'Like what you see? Visit the ' +\n",
              "            '<a target=\"_blank\" href=https://colab.research.google.com/notebooks/data_table.ipynb>data table notebook</a>'\n",
              "            + ' to learn more about interactive tables.';\n",
              "          element.innerHTML = '';\n",
              "          dataTable['output_type'] = 'display_data';\n",
              "          await google.colab.output.renderOutput(dataTable, element);\n",
              "          const docLink = document.createElement('div');\n",
              "          docLink.innerHTML = docLinkHtml;\n",
              "          element.appendChild(docLink);\n",
              "        }\n",
              "      </script>\n",
              "    </div>\n",
              "  </div>\n",
              "  "
            ],
            "text/plain": [
              "                                                   Phrase  Sentiment\n",
              "0       A series of escapades demonstrating the adage ...          1\n",
              "1       A series of escapades demonstrating the adage ...          2\n",
              "2                                                A series          2\n",
              "3                                                       A          2\n",
              "4                                                  series          2\n",
              "...                                                   ...        ...\n",
              "156055                                          Hearst 's          2\n",
              "156056                          forced avuncular chortles          1\n",
              "156057                                 avuncular chortles          3\n",
              "156058                                          avuncular          2\n",
              "156059                                           chortles          2\n",
              "\n",
              "[156060 rows x 2 columns]"
            ]
          },
          "metadata": {},
          "execution_count": 12
        }
      ]
    },
    {
      "cell_type": "markdown",
      "source": [
        "Plotting sentiments"
      ],
      "metadata": {
        "id": "UEsEn6tamtcA"
      }
    },
    {
      "cell_type": "code",
      "source": [
        "counts = train_df['Sentiment'].value_counts()\n",
        "counts.plot.bar()\n",
        "plt.ylabel = 'Phrases'\n",
        "plt.xlabel = 'Sentiment'\n",
        "plt.show()"
      ],
      "metadata": {
        "colab": {
          "base_uri": "https://localhost:8080/",
          "height": 262
        },
        "id": "TsazkvxWmsNc",
        "outputId": "c910cf39-63b1-493e-948b-49be71322d35"
      },
      "execution_count": 13,
      "outputs": [
        {
          "output_type": "display_data",
          "data": {
            "image/png": "[encoded data removed]",
            "text/plain": [
              "<Figure size 432x288 with 1 Axes>"
            ]
          },
          "metadata": {
            "needs_background": "light"
          }
        }
      ]
    },
    {
      "cell_type": "markdown",
      "source": [
        "Seems to be imbalanced? Time for Oversampling!"
      ],
      "metadata": {
        "id": "IuIbsipQnIuc"
      }
    },
    {
      "cell_type": "markdown",
      "source": [
        "## Preprocessing\n",
        "\n",
        "Now I'm building a vectorizer!"
      ],
      "metadata": {
        "id": "RAoEg_nllDum"
      }
    },
    {
      "cell_type": "code",
      "source": [
        "# Get stopwords list\n",
        "stopword_file = '/gdrive/MyDrive/Colab Notebooks/stopwords.txt'\n",
        "\n",
        "stopwords = []\n",
        "\n",
        "with open(stopword_file, 'r+') as f:\n",
        "    for line in f:\n",
        "        stopwords.append(line.rstrip().lower())"
      ],
      "metadata": {
        "id": "Y0dCks39lHa2"
      },
      "execution_count": 14,
      "outputs": []
    },
    {
      "cell_type": "code",
      "source": [
        "print(stopwords)"
      ],
      "metadata": {
        "colab": {
          "base_uri": "https://localhost:8080/"
        },
        "id": "OivxY2zzl5BL",
        "outputId": "7ecf2c74-6990-44e3-d76e-d70314c745f3"
      },
      "execution_count": 15,
      "outputs": [
        {
          "output_type": "stream",
          "name": "stdout",
          "text": [
            "['i', 'me', 'my', 'myself', 'we', 'our', 'ours', 'ourselves', 'you', 'your', 'yours', 'yourself', 'yourselves', 'he', 'him', 'his', 'himself', 'she', 'her', 'hers', 'herself', 'it', 'its', 'itself', 'they', 'them', 'their', 'theirs', 'themselves', 'what', 'which', 'who', 'whom', 'this', 'that', 'these', 'those', 'am', 'is', 'are', 'was', 'were', 'be', 'been', 'being', 'have', 'has', 'had', 'having', 'do', 'does', 'did', 'doing', 'a', 'an', 'the', 'and', 'but', 'if', 'or', 'because', 'as', 'until', 'while', 'of', 'at', 'by', 'for', 'with', 'about', 'against', 'between', 'into', 'through', 'during', 'before', 'after', 'above', 'below', 'to', 'from', 'up', 'down', 'in', 'out', 'on', 'off', 'over', 'under', 'again', 'further', 'then', 'once', 'here', 'there', 'when', 'where', 'why', 'how', 'all', 'any', 'both', 'each', 'few', 'more', 'most', 'other', 'some', 'such', 'no', 'nor', 'not', 'only', 'own', 'same', 'so', 'than', 'too', 'very', 's', 't', 'can', 'will', 'just', 'don', 'should', 'now']\n"
          ]
        }
      ]
    },
    {
      "cell_type": "code",
      "source": [
        "# Preprocessing data\n",
        "def preprocess(sentence):\n",
        "    sentence = sentence.replace(',', '')\n",
        "    sentence = sentence.replace('.', '')\n",
        "    sentence = sentence.replace('`', '')\n",
        "    sentence = sentence.replace('\"', '')\n",
        "    sentence = sentence.replace('\\'', '')\n",
        "    sentence = sentence.replace('-', '')\n",
        "    return sentence.lower().strip()\n",
        "\n",
        "# Tokenize (splitting by space)\n",
        "def tokenizer(sentence):\n",
        "    return sentence.lower().split(' ')"
      ],
      "metadata": {
        "id": "Y-qARv__l_B1"
      },
      "execution_count": 16,
      "outputs": []
    },
    {
      "cell_type": "code",
      "source": [
        "# Build a vectorizer\n",
        "vectorizer = CountVectorizer(\n",
        "    tokenizer=tokenizer,\n",
        "    stop_words=stopwords\n",
        ")"
      ],
      "metadata": {
        "id": "ILVPF5ogmhoR"
      },
      "execution_count": 17,
      "outputs": []
    },
    {
      "cell_type": "code",
      "source": [
        "# Splitting train and test\n",
        "\n",
        "train_df\n",
        "\n",
        "X_train, X_test, y_train, y_test = train_test_split(train_df['Phrase'], train_df['Sentiment'], test_size = 0.33, random_state = 42)"
      ],
      "metadata": {
        "id": "09jn4zM4nsI3"
      },
      "execution_count": 18,
      "outputs": []
    },
    {
      "cell_type": "code",
      "source": [
        "print('X_train shape:', X_train.shape)\n",
        "print('X_test shape:', X_test.shape)"
      ],
      "metadata": {
        "colab": {
          "base_uri": "https://localhost:8080/"
        },
        "id": "DUlDoSy5orQx",
        "outputId": "919a946f-6d60-4fbc-e204-c271950c0b33"
      },
      "execution_count": 19,
      "outputs": [
        {
          "output_type": "stream",
          "name": "stdout",
          "text": [
            "X_train shape: (104560,)\n",
            "X_test shape: (51500,)\n"
          ]
        }
      ]
    },
    {
      "cell_type": "code",
      "source": [
        "# Creating sentence arrays\n",
        "train_sentences, test_sentences = [], []\n",
        "\n",
        "for s in X_train:\n",
        "    train_sentences.append(preprocess(s))\n",
        "\n",
        "for s in X_test:\n",
        "    test_sentences.append(preprocess(s))"
      ],
      "metadata": {
        "id": "RxN6wPjHt2Q3"
      },
      "execution_count": 20,
      "outputs": []
    },
    {
      "cell_type": "code",
      "source": [
        "print(X_train.shape, len(train_sentences))\n",
        "print(X_test.shape, len(test_sentences))"
      ],
      "metadata": {
        "colab": {
          "base_uri": "https://localhost:8080/"
        },
        "id": "GYGcHJgKwCTS",
        "outputId": "a845c720-8684-4cdd-d8d6-6df847a33d86"
      },
      "execution_count": 21,
      "outputs": [
        {
          "output_type": "stream",
          "name": "stdout",
          "text": [
            "(104560,) 104560\n",
            "(51500,) 51500\n"
          ]
        }
      ]
    },
    {
      "cell_type": "code",
      "source": [
        "X = vectorizer.fit_transform(train_sentences)\n",
        "y = y_train\n",
        "\n",
        "model = MultinomialNB()\n",
        "model.fit(X, y)"
      ],
      "metadata": {
        "id": "Q0_CicwhpBC0",
        "colab": {
          "base_uri": "https://localhost:8080/"
        },
        "outputId": "b96ca197-3d9d-4a76-f4a4-17e6fbc6352c"
      },
      "execution_count": 22,
      "outputs": [
        {
          "output_type": "execute_result",
          "data": {
            "text/plain": [
              "MultinomialNB()"
            ]
          },
          "metadata": {},
          "execution_count": 22
        }
      ]
    },
    {
      "cell_type": "code",
      "source": [
        "# Score\n",
        "\n",
        "X_test__ = vectorizer.transform(test_sentences)\n",
        "\n",
        "print(model.score(X_test__, y_test))"
      ],
      "metadata": {
        "id": "_c3kh7geppIu",
        "colab": {
          "base_uri": "https://localhost:8080/"
        },
        "outputId": "c4b288d9-2386-407f-d9aa-ed545745c5b2"
      },
      "execution_count": 24,
      "outputs": [
        {
          "output_type": "stream",
          "name": "stdout",
          "text": [
            "0.6068155339805825\n"
          ]
        }
      ]
    },
    {
      "cell_type": "markdown",
      "source": [
        "# Create submission"
      ],
      "metadata": {
        "id": "U52IpeFP1MXO"
      }
    },
    {
      "cell_type": "code",
      "source": [
        "test_df = pd.read_csv(test_tsv, sep = '\\t')"
      ],
      "metadata": {
        "id": "ydjjiLrO1QGE"
      },
      "execution_count": 25,
      "outputs": []
    },
    {
      "cell_type": "code",
      "source": [
        "list_phrase_ids = test_df['PhraseId']\n",
        "list_phrases = test_df['Phrase']"
      ],
      "metadata": {
        "id": "c4BEsrI7117E"
      },
      "execution_count": 27,
      "outputs": []
    },
    {
      "cell_type": "code",
      "source": [
        "sentiments = []\n",
        "\n",
        "for p in tqdm(list_phrases):\n",
        "    predict_ = model.predict(vectorizer.transform([preprocess(p)]))\n",
        "    sentiments.append(predict_[0])"
      ],
      "metadata": {
        "colab": {
          "base_uri": "https://localhost:8080/"
        },
        "id": "bfT92a9g2A3N",
        "outputId": "484b8154-5c1f-4709-c314-240b91db8c18"
      },
      "execution_count": 32,
      "outputs": [
        {
          "output_type": "stream",
          "name": "stderr",
          "text": [
            "100%|██████████| 66292/66292 [00:41<00:00, 1594.59it/s]\n"
          ]
        }
      ]
    },
    {
      "cell_type": "code",
      "source": [
        "pd.DataFrame({\n",
        "    'PhraseId' : list_phrase_ids,\n",
        "    'Sentiment' : sentiments\n",
        "}).to_csv('submission.csv', index = False)"
      ],
      "metadata": {
        "id": "UpjQVD5U2g1o"
      },
      "execution_count": 33,
      "outputs": []
    }
  ]
}