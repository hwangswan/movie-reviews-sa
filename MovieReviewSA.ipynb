{
  "nbformat": 4,
  "nbformat_minor": 0,
  "metadata": {
    "colab": {
      "name": "MovieReviewSA.ipynb",
      "provenance": [],
      "authorship_tag": "ABX9TyM9IgQFo99fOg595Fcl3I00",
      "include_colab_link": true
    },
    "kernelspec": {
      "name": "python3",
      "display_name": "Python 3"
    },
    "language_info": {
      "name": "python"
    }
  },
  "cells": [
    {
      "cell_type": "markdown",
      "metadata": {
        "id": "view-in-github",
        "colab_type": "text"
      },
      "source": [
        "<a href=\"https://colab.research.google.com/github/hwangswan/movie-reviews-sa/blob/main/MovieReviewSA.ipynb\" target=\"_parent\"><img src=\"https://colab.research.google.com/assets/colab-badge.svg\" alt=\"Open In Colab\"/></a>"
      ]
    },
    {
      "cell_type": "markdown",
      "source": [
        "# Movie Review Sentiment Analysis\n",
        "\n",
        "(using Naive Bayes classifier)\n",
        "\n"
      ],
      "metadata": {
        "id": "ldm7wDXwhZVh"
      }
    },
    {
      "cell_type": "code",
      "execution_count": 1,
      "metadata": {
        "id": "lhz0iuwl7Pn1"
      },
      "outputs": [],
      "source": [
        "import pandas as pd\n",
        "import zipfile\n",
        "import numpy as np\n",
        "import matplotlib.pyplot as plt\n",
        "import seaborn as sb"
      ]
    },
    {
      "cell_type": "code",
      "source": [
        "from sklearn.naive_bayes import MultinomialNB\n",
        "from sklearn.feature_extraction.text import CountVectorizer\n",
        "from sklearn.model_selection import train_test_split\n",
        "\n",
        "import tensorflow as tf\n",
        "\n",
        "from tqdm import tqdm"
      ],
      "metadata": {
        "id": "7IFA0B4ihhuV"
      },
      "execution_count": 2,
      "outputs": []
    },
    {
      "cell_type": "markdown",
      "source": [
        "## Importing data"
      ],
      "metadata": {
        "id": "abVa48Snh3LM"
      }
    },
    {
      "cell_type": "code",
      "source": [
        "from google.colab import drive\n",
        "drive.mount('/gdrive')"
      ],
      "metadata": {
        "colab": {
          "base_uri": "https://localhost:8080/"
        },
        "id": "AH9gmNkuh6qc",
        "outputId": "6b6f4b62-5fe8-425b-a1b0-54cc5a5e1a4b"
      },
      "execution_count": 3,
      "outputs": [
        {
          "output_type": "stream",
          "name": "stdout",
          "text": [
            "Drive already mounted at /gdrive; to attempt to forcibly remount, call drive.mount(\"/gdrive\", force_remount=True).\n"
          ]
        }
      ]
    },
    {
      "cell_type": "code",
      "source": [
        "zip_data = '/gdrive/MyDrive/Colab Notebooks/sentiment-analysis-on-movie-reviews.zip'\n",
        "\n",
        "with zipfile.ZipFile(zip_data, 'r') as f:\n",
        "    f.extractall('/content/data/')"
      ],
      "metadata": {
        "id": "GyJ0WaZKiIxp"
      },
      "execution_count": 4,
      "outputs": []
    },
    {
      "cell_type": "code",
      "source": [
        "test_zip = '/content/data/test.tsv.zip'\n",
        "\n",
        "with zipfile.ZipFile(test_zip, 'r') as f:\n",
        "    f.extractall('/content/data/')"
      ],
      "metadata": {
        "id": "YMmwEGzjiqRj"
      },
      "execution_count": 5,
      "outputs": []
    },
    {
      "cell_type": "code",
      "source": [
        "train_zip = '/content/data/train.tsv.zip'\n",
        "\n",
        "with zipfile.ZipFile(train_zip, 'r') as f:\n",
        "    f.extractall('/content/data/')"
      ],
      "metadata": {
        "id": "7cpqngF2i32q"
      },
      "execution_count": 6,
      "outputs": []
    },
    {
      "cell_type": "markdown",
      "source": [
        "## First look at the data"
      ],
      "metadata": {
        "id": "8qKxrCAqi7yE"
      }
    },
    {
      "cell_type": "code",
      "source": [
        "train_tsv = '/content/data/train.tsv'\n",
        "test_tsv = '/content/data/test.tsv'"
      ],
      "metadata": {
        "id": "5sksYWs8i98j"
      },
      "execution_count": 7,
      "outputs": []
    },
    {
      "cell_type": "code",
      "source": [
        "train_df = pd.read_csv(train_tsv, sep = '\\t')"
      ],
      "metadata": {
        "id": "A-bIHpjcjC4m"
      },
      "execution_count": 8,
      "outputs": []
    },
    {
      "cell_type": "code",
      "source": [
        "train_df.shape"
      ],
      "metadata": {
        "colab": {
          "base_uri": "https://localhost:8080/"
        },
        "id": "sErKmj8KjRDN",
        "outputId": "9ac192b2-e8b7-4156-d2a1-ab5b1232aa66"
      },
      "execution_count": 9,
      "outputs": [
        {
          "output_type": "execute_result",
          "data": {
            "text/plain": [
              "(156060, 4)"
            ]
          },
          "metadata": {},
          "execution_count": 9
        }
      ]
    },
    {
      "cell_type": "code",
      "source": [
        "train_df.iloc[0]"
      ],
      "metadata": {
        "colab": {
          "base_uri": "https://localhost:8080/"
        },
        "id": "HkXI0BYWjTtT",
        "outputId": "a4e3fc6c-7691-45ec-d0f9-2e7e46657cd2"
      },
      "execution_count": 10,
      "outputs": [
        {
          "output_type": "execute_result",
          "data": {
            "text/plain": [
              "PhraseId                                                      1\n",
              "SentenceId                                                    1\n",
              "Phrase        A series of escapades demonstrating the adage ...\n",
              "Sentiment                                                     1\n",
              "Name: 0, dtype: object"
            ]
          },
          "metadata": {},
          "execution_count": 10
        }
      ]
    },
    {
      "cell_type": "markdown",
      "source": [
        "Drop PhraseId and SentenceId, since I guess it's useless btw"
      ],
      "metadata": {
        "id": "enw3QkygkFl_"
      }
    },
    {
      "cell_type": "code",
      "source": [
        "train_df = train_df.drop('PhraseId', axis = 1)\n",
        "train_df = train_df.drop('SentenceId', axis = 1)"
      ],
      "metadata": {
        "id": "fFv8su-vkPtx"
      },
      "execution_count": 11,
      "outputs": []
    },
    {
      "cell_type": "code",
      "source": [
        "train_df"
      ],
      "metadata": {
        "colab": {
          "base_uri": "https://localhost:8080/",
          "height": 424
        },
        "id": "sq3hD5S-k0XQ",
        "outputId": "ad50af9e-e2ea-479c-f51e-562dfa022415"
      },
      "execution_count": 12,
      "outputs": [
        {
          "output_type": "execute_result",
          "data": {
            "text/html": [
              "\n",
              "  <div id=\"df-b8d21fac-466a-42f7-adc4-f042b3f30025\">\n",
              "    <div class=\"colab-df-container\">\n",
              "      <div>\n",
              "<style scoped>\n",
              "    .dataframe tbody tr th:only-of-type {\n",
              "        vertical-align: middle;\n",
              "    }\n",
              "\n",
              "    .dataframe tbody tr th {\n",
              "        vertical-align: top;\n",
              "    }\n",
              "\n",
              "    .dataframe thead th {\n",
              "        text-align: right;\n",
              "    }\n",
              "</style>\n",
              "<table border=\"1\" class=\"dataframe\">\n",
              "  <thead>\n",
              "    <tr style=\"text-align: right;\">\n",
              "      <th></th>\n",
              "      <th>Phrase</th>\n",
              "      <th>Sentiment</th>\n",
              "    </tr>\n",
              "  </thead>\n",
              "  <tbody>\n",
              "    <tr>\n",
              "      <th>0</th>\n",
              "      <td>A series of escapades demonstrating the adage ...</td>\n",
              "      <td>1</td>\n",
              "    </tr>\n",
              "    <tr>\n",
              "      <th>1</th>\n",
              "      <td>A series of escapades demonstrating the adage ...</td>\n",
              "      <td>2</td>\n",
              "    </tr>\n",
              "    <tr>\n",
              "      <th>2</th>\n",
              "      <td>A series</td>\n",
              "      <td>2</td>\n",
              "    </tr>\n",
              "    <tr>\n",
              "      <th>3</th>\n",
              "      <td>A</td>\n",
              "      <td>2</td>\n",
              "    </tr>\n",
              "    <tr>\n",
              "      <th>4</th>\n",
              "      <td>series</td>\n",
              "      <td>2</td>\n",
              "    </tr>\n",
              "    <tr>\n",
              "      <th>...</th>\n",
              "      <td>...</td>\n",
              "      <td>...</td>\n",
              "    </tr>\n",
              "    <tr>\n",
              "      <th>156055</th>\n",
              "      <td>Hearst 's</td>\n",
              "      <td>2</td>\n",
              "    </tr>\n",
              "    <tr>\n",
              "      <th>156056</th>\n",
              "      <td>forced avuncular chortles</td>\n",
              "      <td>1</td>\n",
              "    </tr>\n",
              "    <tr>\n",
              "      <th>156057</th>\n",
              "      <td>avuncular chortles</td>\n",
              "      <td>3</td>\n",
              "    </tr>\n",
              "    <tr>\n",
              "      <th>156058</th>\n",
              "      <td>avuncular</td>\n",
              "      <td>2</td>\n",
              "    </tr>\n",
              "    <tr>\n",
              "      <th>156059</th>\n",
              "      <td>chortles</td>\n",
              "      <td>2</td>\n",
              "    </tr>\n",
              "  </tbody>\n",
              "</table>\n",
              "<p>156060 rows × 2 columns</p>\n",
              "</div>\n",
              "      <button class=\"colab-df-convert\" onclick=\"convertToInteractive('df-b8d21fac-466a-42f7-adc4-f042b3f30025')\"\n",
              "              title=\"Convert this dataframe to an interactive table.\"\n",
              "              style=\"display:none;\">\n",
              "        \n",
              "  <svg xmlns=\"http://www.w3.org/2000/svg\" height=\"24px\"viewBox=\"0 0 24 24\"\n",
              "       width=\"24px\">\n",
              "    <path d=\"M0 0h24v24H0V0z\" fill=\"none\"/>\n",
              "    <path d=\"M18.56 5.44l.94 2.06.94-2.06 2.06-.94-2.06-.94-.94-2.06-.94 2.06-2.06.94zm-11 1L8.5 8.5l.94-2.06 2.06-.94-2.06-.94L8.5 2.5l-.94 2.06-2.06.94zm10 10l.94 2.06.94-2.06 2.06-.94-2.06-.94-.94-2.06-.94 2.06-2.06.94z\"/><path d=\"M17.41 7.96l-1.37-1.37c-.4-.4-.92-.59-1.43-.59-.52 0-1.04.2-1.43.59L10.3 9.45l-7.72 7.72c-.78.78-.78 2.05 0 2.83L4 21.41c.39.39.9.59 1.41.59.51 0 1.02-.2 1.41-.59l7.78-7.78 2.81-2.81c.8-.78.8-2.07 0-2.86zM5.41 20L4 18.59l7.72-7.72 1.47 1.35L5.41 20z\"/>\n",
              "  </svg>\n",
              "      </button>\n",
              "      \n",
              "  <style>\n",
              "    .colab-df-container {\n",
              "      display:flex;\n",
              "      flex-wrap:wrap;\n",
              "      gap: 12px;\n",
              "    }\n",
              "\n",
              "    .colab-df-convert {\n",
              "      background-color: #E8F0FE;\n",
              "      border: none;\n",
              "      border-radius: 50%;\n",
              "      cursor: pointer;\n",
              "      display: none;\n",
              "      fill: #1967D2;\n",
              "      height: 32px;\n",
              "      padding: 0 0 0 0;\n",
              "      width: 32px;\n",
              "    }\n",
              "\n",
              "    .colab-df-convert:hover {\n",
              "      background-color: #E2EBFA;\n",
              "      box-shadow: 0px 1px 2px rgba(60, 64, 67, 0.3), 0px 1px 3px 1px rgba(60, 64, 67, 0.15);\n",
              "      fill: #174EA6;\n",
              "    }\n",
              "\n",
              "    [theme=dark] .colab-df-convert {\n",
              "      background-color: #3B4455;\n",
              "      fill: #D2E3FC;\n",
              "    }\n",
              "\n",
              "    [theme=dark] .colab-df-convert:hover {\n",
              "      background-color: #434B5C;\n",
              "      box-shadow: 0px 1px 3px 1px rgba(0, 0, 0, 0.15);\n",
              "      filter: drop-shadow(0px 1px 2px rgba(0, 0, 0, 0.3));\n",
              "      fill: #FFFFFF;\n",
              "    }\n",
              "  </style>\n",
              "\n",
              "      <script>\n",
              "        const buttonEl =\n",
              "          document.querySelector('#df-b8d21fac-466a-42f7-adc4-f042b3f30025 button.colab-df-convert');\n",
              "        buttonEl.style.display =\n",
              "          google.colab.kernel.accessAllowed ? 'block' : 'none';\n",
              "\n",
              "        async function convertToInteractive(key) {\n",
              "          const element = document.querySelector('#df-b8d21fac-466a-42f7-adc4-f042b3f30025');\n",
              "          const dataTable =\n",
              "            await google.colab.kernel.invokeFunction('convertToInteractive',\n",
              "                                                     [key], {});\n",
              "          if (!dataTable) return;\n",
              "\n",
              "          const docLinkHtml = 'Like what you see? Visit the ' +\n",
              "            '<a target=\"_blank\" href=https://colab.research.google.com/notebooks/data_table.ipynb>data table notebook</a>'\n",
              "            + ' to learn more about interactive tables.';\n",
              "          element.innerHTML = '';\n",
              "          dataTable['output_type'] = 'display_data';\n",
              "          await google.colab.output.renderOutput(dataTable, element);\n",
              "          const docLink = document.createElement('div');\n",
              "          docLink.innerHTML = docLinkHtml;\n",
              "          element.appendChild(docLink);\n",
              "        }\n",
              "      </script>\n",
              "    </div>\n",
              "  </div>\n",
              "  "
            ],
            "text/plain": [
              "                                                   Phrase  Sentiment\n",
              "0       A series of escapades demonstrating the adage ...          1\n",
              "1       A series of escapades demonstrating the adage ...          2\n",
              "2                                                A series          2\n",
              "3                                                       A          2\n",
              "4                                                  series          2\n",
              "...                                                   ...        ...\n",
              "156055                                          Hearst 's          2\n",
              "156056                          forced avuncular chortles          1\n",
              "156057                                 avuncular chortles          3\n",
              "156058                                          avuncular          2\n",
              "156059                                           chortles          2\n",
              "\n",
              "[156060 rows x 2 columns]"
            ]
          },
          "metadata": {},
          "execution_count": 12
        }
      ]
    },
    {
      "cell_type": "markdown",
      "source": [
        "Plotting sentiments"
      ],
      "metadata": {
        "id": "UEsEn6tamtcA"
      }
    },
    {
      "cell_type": "code",
      "source": [
        "counts = train_df['Sentiment'].value_counts()\n",
        "counts.plot.bar()\n",
        "plt.xlabel('Sentiment')\n",
        "plt.ylabel('Phrases')\n",
        "plt.show()"
      ],
      "metadata": {
        "colab": {
          "base_uri": "https://localhost:8080/",
          "height": 276
        },
        "id": "TsazkvxWmsNc",
        "outputId": "077238cd-e248-49b9-a8d6-c5e23a6a1876"
      },
      "execution_count": 13,
      "outputs": [
        {
          "output_type": "display_data",
          "data": {
            "image/png": "[encoded data removed]",
            "text/plain": [
              "<Figure size 432x288 with 1 Axes>"
            ]
          },
          "metadata": {
            "needs_background": "light"
          }
        }
      ]
    },
    {
      "cell_type": "markdown",
      "source": [
        "Seems to be imbalanced? Time for Oversampling!"
      ],
      "metadata": {
        "id": "IuIbsipQnIuc"
      }
    },
    {
      "cell_type": "markdown",
      "source": [
        "## Preprocessing\n",
        "Steps of preprocessing include:\n",
        "- Lowercasing the sentence\n",
        "- Remove special characters"
      ],
      "metadata": {
        "id": "RAoEg_nllDum"
      }
    },
    {
      "cell_type": "code",
      "source": [
        "# Get stopwords list\n",
        "stopword_file = '/gdrive/MyDrive/Colab Notebooks/stopwords.txt'\n",
        "\n",
        "stopwords = []\n",
        "\n",
        "with open(stopword_file, 'r+') as f:\n",
        "    for line in f:\n",
        "        stopwords.append(line.rstrip().lower())"
      ],
      "metadata": {
        "id": "Y0dCks39lHa2"
      },
      "execution_count": 14,
      "outputs": []
    },
    {
      "cell_type": "code",
      "source": [
        "print(stopwords)"
      ],
      "metadata": {
        "colab": {
          "base_uri": "https://localhost:8080/"
        },
        "id": "OivxY2zzl5BL",
        "outputId": "0b063b1d-3cd9-4c2b-8db2-841119d37d7a"
      },
      "execution_count": 15,
      "outputs": [
        {
          "output_type": "stream",
          "name": "stdout",
          "text": [
            "['i', 'me', 'my', 'myself', 'we', 'our', 'ours', 'ourselves', 'you', 'your', 'yours', 'yourself', 'yourselves', 'he', 'him', 'his', 'himself', 'she', 'her', 'hers', 'herself', 'it', 'its', 'itself', 'they', 'them', 'their', 'theirs', 'themselves', 'what', 'which', 'who', 'whom', 'this', 'that', 'these', 'those', 'am', 'is', 'are', 'was', 'were', 'be', 'been', 'being', 'have', 'has', 'had', 'having', 'do', 'does', 'did', 'doing', 'a', 'an', 'the', 'and', 'but', 'if', 'or', 'because', 'as', 'until', 'while', 'of', 'at', 'by', 'for', 'with', 'about', 'against', 'between', 'into', 'through', 'during', 'before', 'after', 'above', 'below', 'to', 'from', 'up', 'down', 'in', 'out', 'on', 'off', 'over', 'under', 'again', 'further', 'then', 'once', 'here', 'there', 'when', 'where', 'why', 'how', 'all', 'any', 'both', 'each', 'few', 'more', 'most', 'other', 'some', 'such', 'no', 'nor', 'not', 'only', 'own', 'same', 'so', 'than', 'too', 'very', 's', 't', 'can', 'will', 'just', 'don', 'should', 'now']\n"
          ]
        }
      ]
    },
    {
      "cell_type": "code",
      "source": [
        "# Preprocessing data\n",
        "def preprocess(sentence):\n",
        "    sentence = sentence.replace(',', '')\n",
        "    sentence = sentence.replace('.', '')\n",
        "    sentence = sentence.replace('`', '')\n",
        "    sentence = sentence.replace('\"', '')\n",
        "    sentence = sentence.replace('\\'', '')\n",
        "    sentence = sentence.replace('-', '')\n",
        "    return sentence.lower().strip()\n",
        "\n",
        "# Tokenize (splitting by space)\n",
        "def tokenizer(sentence):\n",
        "    return sentence.lower().split(' ')"
      ],
      "metadata": {
        "id": "Y-qARv__l_B1"
      },
      "execution_count": 16,
      "outputs": []
    },
    {
      "cell_type": "code",
      "source": [
        "# Build a vectorizer\n",
        "vectorizer = CountVectorizer(\n",
        "    tokenizer=tokenizer,\n",
        "    stop_words=stopwords\n",
        ")"
      ],
      "metadata": {
        "id": "ILVPF5ogmhoR"
      },
      "execution_count": 17,
      "outputs": []
    },
    {
      "cell_type": "code",
      "source": [
        "# Splitting train and test\n",
        "\n",
        "train_df\n",
        "\n",
        "X_train, X_test, y_train, y_test = train_test_split(train_df['Phrase'], train_df['Sentiment'], test_size = 0.33, random_state = 42)"
      ],
      "metadata": {
        "id": "09jn4zM4nsI3"
      },
      "execution_count": 18,
      "outputs": []
    },
    {
      "cell_type": "code",
      "source": [
        "print('X_train shape:', X_train.shape)\n",
        "print('X_test shape:', X_test.shape)"
      ],
      "metadata": {
        "colab": {
          "base_uri": "https://localhost:8080/"
        },
        "id": "DUlDoSy5orQx",
        "outputId": "0614c1a2-f257-4574-caa6-f91f38d97b9d"
      },
      "execution_count": 19,
      "outputs": [
        {
          "output_type": "stream",
          "name": "stdout",
          "text": [
            "X_train shape: (104560,)\n",
            "X_test shape: (51500,)\n"
          ]
        }
      ]
    },
    {
      "cell_type": "code",
      "source": [
        "# Creating sentence arrays\n",
        "train_sentences, test_sentences = [], []\n",
        "\n",
        "for s in tqdm(X_train):\n",
        "    train_sentences.append(preprocess(s))\n",
        "\n",
        "for s in tqdm(X_test):\n",
        "    test_sentences.append(preprocess(s))"
      ],
      "metadata": {
        "id": "RxN6wPjHt2Q3",
        "colab": {
          "base_uri": "https://localhost:8080/"
        },
        "outputId": "d407d78a-5ee5-4d85-9627-980e0dec704f"
      },
      "execution_count": 20,
      "outputs": [
        {
          "output_type": "stream",
          "name": "stderr",
          "text": [
            "100%|██████████| 104560/104560 [00:00<00:00, 161979.98it/s]\n",
            "100%|██████████| 51500/51500 [00:00<00:00, 213050.79it/s]\n"
          ]
        }
      ]
    },
    {
      "cell_type": "code",
      "source": [
        "print(X_train.shape, len(train_sentences))\n",
        "print(X_test.shape, len(test_sentences))"
      ],
      "metadata": {
        "colab": {
          "base_uri": "https://localhost:8080/"
        },
        "id": "GYGcHJgKwCTS",
        "outputId": "bf3e1da5-32d6-48d2-d5fb-7250268317b5"
      },
      "execution_count": 21,
      "outputs": [
        {
          "output_type": "stream",
          "name": "stdout",
          "text": [
            "(104560,) 104560\n",
            "(51500,) 51500\n"
          ]
        }
      ]
    },
    {
      "cell_type": "markdown",
      "source": [
        "## Using MultinomialNB to create a model and fitting it with training data."
      ],
      "metadata": {
        "id": "gLFBiu9fQAmE"
      }
    },
    {
      "cell_type": "code",
      "source": [
        "X = vectorizer.fit_transform(train_sentences)\n",
        "y = y_train\n",
        "\n",
        "model = MultinomialNB()\n",
        "model.fit(X, y)"
      ],
      "metadata": {
        "id": "Q0_CicwhpBC0",
        "colab": {
          "base_uri": "https://localhost:8080/"
        },
        "outputId": "6277c5b7-c04d-4456-dbae-67831f537c2c"
      },
      "execution_count": 22,
      "outputs": [
        {
          "output_type": "execute_result",
          "data": {
            "text/plain": [
              "MultinomialNB()"
            ]
          },
          "metadata": {},
          "execution_count": 22
        }
      ]
    },
    {
      "cell_type": "code",
      "source": [
        "# Score\n",
        "\n",
        "X_test__ = vectorizer.transform(test_sentences)\n",
        "\n",
        "print(model.score(X_test__, y_test))"
      ],
      "metadata": {
        "id": "_c3kh7geppIu",
        "colab": {
          "base_uri": "https://localhost:8080/"
        },
        "outputId": "770472c0-47e6-4d93-ca15-bbe5dc60d3f3"
      },
      "execution_count": 23,
      "outputs": [
        {
          "output_type": "stream",
          "name": "stdout",
          "text": [
            "0.6068155339805825\n"
          ]
        }
      ]
    },
    {
      "cell_type": "code",
      "source": [
        "# Printing confusion matrix\n",
        "\n",
        "predictions = [pred for pred in model.predict(X_test__)]\n",
        "\n",
        "confusion_matrix = tf.math.confusion_matrix(\n",
        "    labels = y_test, predictions = predictions\n",
        ")\n",
        "\n",
        "confusion_matrix"
      ],
      "metadata": {
        "colab": {
          "base_uri": "https://localhost:8080/"
        },
        "id": "owMnVHpgExLe",
        "outputId": "82afbd08-a4e5-499e-942f-260693b99a07"
      },
      "execution_count": 24,
      "outputs": [
        {
          "output_type": "execute_result",
          "data": {
            "text/plain": [
              "<tf.Tensor: shape=(5, 5), dtype=int32, numpy=\n",
              "array([[  637,  1170,   468,    59,     7],\n",
              "       [  539,  3854,  4126,   502,    40],\n",
              "       [  188,  2369, 20328,  2897,   216],\n",
              "       [   32,   405,  4298,  5540,   715],\n",
              "       [    2,    49,   469,  1698,   892]], dtype=int32)>"
            ]
          },
          "metadata": {},
          "execution_count": 24
        }
      ]
    },
    {
      "cell_type": "code",
      "source": [
        "plt.figure(figsize = (10, 7))\n",
        "sb.heatmap(confusion_matrix, annot = True, fmt = 'd')\n",
        "plt.xlabel('Predicted')\n",
        "plt.ylabel('True')"
      ],
      "metadata": {
        "colab": {
          "base_uri": "https://localhost:8080/",
          "height": 459
        },
        "id": "9fRbbmeFGOE7",
        "outputId": "c7acd8fa-3629-4ec8-f727-e841991d0901"
      },
      "execution_count": 25,
      "outputs": [
        {
          "output_type": "execute_result",
          "data": {
            "text/plain": [
              "Text(69.0, 0.5, 'True')"
            ]
          },
          "metadata": {},
          "execution_count": 25
        },
        {
          "output_type": "display_data",
          "data": {
            "image/png": "[encoded data removed]",
            "text/plain": [
              "<Figure size 720x504 with 2 Axes>"
            ]
          },
          "metadata": {
            "needs_background": "light"
          }
        }
      ]
    },
    {
      "cell_type": "markdown",
      "source": [
        "## Create submission"
      ],
      "metadata": {
        "id": "U52IpeFP1MXO"
      }
    },
    {
      "cell_type": "markdown",
      "source": [
        "Re-train model with full training data"
      ],
      "metadata": {
        "id": "06kK5rvNPv9w"
      }
    },
    {
      "cell_type": "code",
      "source": [
        "X_submit_sentences = []\n",
        "\n",
        "for s in train_df['Phrase']:\n",
        "    X_submit_sentences.append(preprocess(s))\n",
        "\n",
        "\n",
        "X_submit_model = vectorizer.fit_transform(X_submit_sentences)\n",
        "\n",
        "y_submit_model = train_df['Sentiment']"
      ],
      "metadata": {
        "id": "7lh-DU15QSe1"
      },
      "execution_count": 26,
      "outputs": []
    },
    {
      "cell_type": "code",
      "source": [
        "submission_model = MultinomialNB()\n",
        "submission_model.fit(X_submit_model, y_submit_model)"
      ],
      "metadata": {
        "colab": {
          "base_uri": "https://localhost:8080/"
        },
        "id": "G1_LgcTXQKZt",
        "outputId": "7eaa104b-2ade-4c70-ca6b-fa1ff5c2bc45"
      },
      "execution_count": 27,
      "outputs": [
        {
          "output_type": "execute_result",
          "data": {
            "text/plain": [
              "MultinomialNB()"
            ]
          },
          "metadata": {},
          "execution_count": 27
        }
      ]
    },
    {
      "cell_type": "markdown",
      "source": [
        "Now we have the submission model, let's predict and write predictions to submission file."
      ],
      "metadata": {
        "id": "vb60PLYSQuwx"
      }
    },
    {
      "cell_type": "code",
      "source": [
        "test_df = pd.read_csv(test_tsv, sep = '\\t')"
      ],
      "metadata": {
        "id": "ydjjiLrO1QGE"
      },
      "execution_count": 28,
      "outputs": []
    },
    {
      "cell_type": "code",
      "source": [
        "list_phrase_ids = test_df['PhraseId']\n",
        "list_phrases = test_df['Phrase']"
      ],
      "metadata": {
        "id": "c4BEsrI7117E"
      },
      "execution_count": 29,
      "outputs": []
    },
    {
      "cell_type": "code",
      "source": [
        "sentiments = []\n",
        "\n",
        "for p in tqdm(list_phrases):\n",
        "    predict_ = submission_model.predict(vectorizer.transform([preprocess(p)]))\n",
        "    sentiments.append(predict_[0])"
      ],
      "metadata": {
        "colab": {
          "base_uri": "https://localhost:8080/"
        },
        "id": "bfT92a9g2A3N",
        "outputId": "1e516143-0351-43a0-d750-743f762e48fb"
      },
      "execution_count": 30,
      "outputs": [
        {
          "output_type": "stream",
          "name": "stderr",
          "text": [
            "100%|██████████| 66292/66292 [00:53<00:00, 1247.91it/s]\n"
          ]
        }
      ]
    },
    {
      "cell_type": "code",
      "source": [
        "pd.DataFrame({\n",
        "    'PhraseId' : list_phrase_ids,\n",
        "    'Sentiment' : sentiments\n",
        "}).to_csv('submission.csv', index = False)"
      ],
      "metadata": {
        "id": "UpjQVD5U2g1o"
      },
      "execution_count": 31,
      "outputs": []
    }
  ]
}